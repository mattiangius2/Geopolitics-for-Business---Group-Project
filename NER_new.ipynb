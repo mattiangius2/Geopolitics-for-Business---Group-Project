{
 "cells": [
  {
   "cell_type": "code",
   "execution_count": 8,
   "id": "c2fac594-18f9-4105-8a87-6fa26171ebe1",
   "metadata": {},
   "outputs": [],
   "source": [
    "import PyPDF2\n",
    "from tqdm import tqdm\n",
    "import spacy\n",
    "from collections import defaultdict\n",
    "import pycountry\n",
    "import os\n",
    "import numpy as np\n",
    "import math\n",
    "import json"
   ]
  },
  {
   "cell_type": "code",
   "execution_count": 9,
   "id": "47101a76-d068-443b-b147-05ffd3ebc731",
   "metadata": {},
   "outputs": [
    {
     "name": "stdout",
     "output_type": "stream",
     "text": [
      "File already transformed to txt\n",
      "File already transformed to txt\n",
      "File already transformed to txt\n",
      "File already transformed to txt\n",
      "File already transformed to txt\n",
      "File already transformed to txt\n",
      "File already transformed to txt\n",
      "File already transformed to txt\n",
      "File already transformed to txt\n",
      "File already transformed to txt\n",
      "File already transformed to txt\n",
      "File already transformed to txt\n",
      "File already transformed to txt\n",
      "File already transformed to txt\n",
      "File already transformed to txt\n",
      "File already transformed to txt\n"
     ]
    },
    {
     "name": "stderr",
     "output_type": "stream",
     "text": [
      "100%|█████████████████████████████████████████████████████████████████████████████████████████████| 113/113 [00:04<00:00, 24.90it/s]\n"
     ]
    },
    {
     "name": "stdout",
     "output_type": "stream",
     "text": [
      "File already transformed to txt\n",
      "File already transformed to txt\n",
      "File already transformed to txt\n",
      "File already transformed to txt\n",
      "File already transformed to txt\n",
      "File already transformed to txt\n",
      "File already transformed to txt\n",
      "File already transformed to txt\n"
     ]
    }
   ],
   "source": [
    "pdfs = [file for file in os.listdir(\"pdf\") if not file.startswith(\".\") ]\n",
    "documents = {} \n",
    "\n",
    "for pdf in pdfs:\n",
    "    pdf_path = \"pdf/\" + pdf\n",
    "    txt_file = pdf[:-3] + \"txt\"\n",
    "    txt_path = \"txt/\" + txt_file\n",
    "    \n",
    "    if txt_file in os.listdir(\"txt\"):\n",
    "        print(\"File already transformed to txt\")\n",
    "        with open(txt_path, 'r', encoding='utf-8') as f:\n",
    "            text = f.read()\n",
    "    else: \n",
    "        text = \"\"\n",
    "        with open(pdf_path, 'rb') as file:\n",
    "            reader = PyPDF2.PdfReader(file)\n",
    "            for page in tqdm(reader.pages):\n",
    "                text += page.extract_text() + \"PAGE END\"\n",
    "                \n",
    "        text = text.replace('\\n', '')\n",
    "        with open(txt_path, 'w', encoding='utf-8') as f:\n",
    "            f.write(text)\n",
    "\n",
    "    documents[pdf] = text"
   ]
  },
  {
   "cell_type": "code",
   "execution_count": 10,
   "id": "6a56bfbe-63c0-4991-a657-c323bebc9f0b",
   "metadata": {
    "scrolled": true
   },
   "outputs": [
    {
     "data": {
      "text/plain": [
       "dict_keys(['Stellantis.pdf', 'Shell.pdf', 'AIG.pdf', 'Siemens.pdf', 'SAP.pdf', 'Maersk.pdf', 'Volkswagen.pdf', 'Nike.pdf', 'Aramco.pdf', 'NovoNordisk.pdf', 'CocaCola.pdf', 'Toyota.pdf', 'Tesla.pdf', 'Boeing.pdf', 'Samsung.pdf', 'Nestle.pdf', 'Apple.pdf', 'Eni.pdf', 'BASF.pdf', 'P&G.pdf', 'Nvidia (sustainability).pdf', 'Alibaba.pdf', 'TotalEnergies.pdf', 'ExxonMobil_P1.pdf', 'LVMH.pdf'])"
      ]
     },
     "execution_count": 10,
     "metadata": {},
     "output_type": "execute_result"
    }
   ],
   "source": [
    "documents.keys()"
   ]
  },
  {
   "cell_type": "code",
   "execution_count": 13,
   "id": "70e1e052-b19a-48a3-9fd3-005c82aa6bf6",
   "metadata": {
    "scrolled": true
   },
   "outputs": [
    {
     "name": "stdout",
     "output_type": "stream",
     "text": [
      "Document 0: 222011 tokens\n",
      "Document 1: 312960 tokens\n",
      "Document 2: 130543 tokens\n",
      "Document 3: 93710 tokens\n",
      "Document 4: 164942 tokens\n",
      "Document 5: 110234 tokens\n",
      "Document 6: 319521 tokens\n",
      "Document 7: 56932 tokens\n",
      "Document 8: 105256 tokens\n",
      "Document 9: 91239 tokens\n",
      "Document 10: 94012 tokens\n",
      "Document 11: 97541 tokens\n",
      "Document 12: 59441 tokens\n",
      "Document 13: 42628 tokens\n",
      "Document 14: 138173 tokens\n",
      "Document 15: 16249 tokens\n",
      "Document 16: 50729 tokens\n",
      "Document 17: 256985 tokens\n",
      "Document 18: 89544 tokens\n",
      "Document 19: 52813 tokens\n",
      "Document 20: 14549 tokens\n",
      "Document 21: 177211 tokens\n",
      "Document 22: 407312 tokens\n",
      "Document 23: 2516 tokens\n",
      "Document 24: 28986 tokens\n"
     ]
    }
   ],
   "source": [
    "total_tokens = 0\n",
    "for i, doc in enumerate(documents.values()):\n",
    "    tokens = doc.split()\n",
    "    print(f\"Document {i}: {len(tokens)} tokens\")\n",
    "    total_tokens += len(tokens)"
   ]
  },
  {
   "cell_type": "code",
   "execution_count": 14,
   "id": "86b1e3f1-0d21-4498-bbc5-e4d926b44bfe",
   "metadata": {},
   "outputs": [
    {
     "data": {
      "text/plain": [
       "3136037"
      ]
     },
     "execution_count": 14,
     "metadata": {},
     "output_type": "execute_result"
    }
   ],
   "source": [
    "total_tokens"
   ]
  },
  {
   "cell_type": "code",
   "execution_count": 7,
   "id": "cbf41ba5-dc5f-4cef-bff5-77280215c3ea",
   "metadata": {},
   "outputs": [
    {
     "name": "stdout",
     "output_type": "stream",
     "text": [
      "Define document\n",
      "Define indexes\n",
      "Current Indexes: [0, 111006, 222011]\n"
     ]
    },
    {
     "name": "stderr",
     "output_type": "stream",
     "text": [
      "/Users/fabiostefana/anaconda3/lib/python3.11/site-packages/tqdm/auto.py:21: TqdmWarning: IProgress not found. Please update jupyter and ipywidgets. See https://ipywidgets.readthedocs.io/en/stable/user_install.html\n",
      "  from .autonotebook import tqdm as notebook_tqdm\n"
     ]
    },
    {
     "name": "stdout",
     "output_type": "stream",
     "text": [
      "big document\n"
     ]
    },
    {
     "name": "stderr",
     "output_type": "stream",
     "text": [
      "100%|██████████████████████████████████████████████████████████████████████████████████████| 2360/2360 [00:00<00:00, 2744263.22it/s]\n",
      "100%|███████████████████████████████████████████████████████████████████████████████████████| 1712/1712 [00:00<00:00, 762600.73it/s]\n"
     ]
    },
    {
     "name": "stdout",
     "output_type": "stream",
     "text": [
      "Define document\n",
      "Define indexes\n",
      "Current Indexes: [0, 104320, 208640, 312960]\n",
      "big document\n"
     ]
    },
    {
     "name": "stderr",
     "output_type": "stream",
     "text": [
      "100%|██████████████████████████████████████████████████████████████████████████████████████| 1759/1759 [00:00<00:00, 2946398.06it/s]\n",
      "100%|██████████████████████████████████████████████████████████████████████████████████████| 2534/2534 [00:00<00:00, 1997813.22it/s]\n",
      "100%|██████████████████████████████████████████████████████████████████████████████████████| 2119/2119 [00:00<00:00, 3536701.22it/s]\n"
     ]
    },
    {
     "name": "stdout",
     "output_type": "stream",
     "text": [
      "Define document\n",
      "Define indexes\n",
      "Current Indexes: [0, 130543]\n",
      "big document\n"
     ]
    },
    {
     "name": "stderr",
     "output_type": "stream",
     "text": [
      "100%|██████████████████████████████████████████████████████████████████████████████████████| 1036/1036 [00:00<00:00, 2394104.10it/s]\n"
     ]
    },
    {
     "name": "stdout",
     "output_type": "stream",
     "text": [
      "Define document\n",
      "Define indexes\n",
      "Current Indexes: None\n",
      "small document\n"
     ]
    },
    {
     "name": "stderr",
     "output_type": "stream",
     "text": [
      "100%|████████████████████████████████████████████████████████████████████████████████████| 13167/13167 [00:00<00:00, 1981500.51it/s]\n"
     ]
    },
    {
     "name": "stdout",
     "output_type": "stream",
     "text": [
      "Define document\n",
      "Define indexes\n",
      "Current Indexes: [0, 164942]\n",
      "big document\n"
     ]
    },
    {
     "name": "stderr",
     "output_type": "stream",
     "text": [
      "100%|██████████████████████████████████████████████████████████████████████████████████████| 2387/2387 [00:00<00:00, 1393431.27it/s]\n"
     ]
    },
    {
     "name": "stdout",
     "output_type": "stream",
     "text": [
      "Define document\n",
      "Define indexes\n",
      "Current Indexes: [0, 110234]\n",
      "big document\n"
     ]
    },
    {
     "name": "stderr",
     "output_type": "stream",
     "text": [
      "100%|██████████████████████████████████████████████████████████████████████████████████████| 1630/1630 [00:00<00:00, 1462086.30it/s]\n"
     ]
    },
    {
     "name": "stdout",
     "output_type": "stream",
     "text": [
      "Define document\n",
      "Define indexes\n",
      "Current Indexes: [0, 106507, 213014, 319521]\n",
      "big document\n"
     ]
    },
    {
     "name": "stderr",
     "output_type": "stream",
     "text": [
      "100%|██████████████████████████████████████████████████████████████████████████████████████| 1803/1803 [00:00<00:00, 3492993.12it/s]\n",
      "100%|██████████████████████████████████████████████████████████████████████████████████████| 2309/2309 [00:00<00:00, 2836745.15it/s]\n",
      "100%|██████████████████████████████████████████████████████████████████████████████████████| 2021/2021 [00:00<00:00, 3172413.32it/s]\n"
     ]
    },
    {
     "name": "stdout",
     "output_type": "stream",
     "text": [
      "Define document\n",
      "Define indexes\n",
      "Current Indexes: None\n",
      "small document\n"
     ]
    },
    {
     "name": "stderr",
     "output_type": "stream",
     "text": [
      "100%|██████████████████████████████████████████████████████████████████████████████████████| 4875/4875 [00:00<00:00, 1385689.35it/s]\n"
     ]
    },
    {
     "name": "stdout",
     "output_type": "stream",
     "text": [
      "Define document\n",
      "Define indexes\n",
      "Current Indexes: [0, 105256]\n",
      "big document\n"
     ]
    },
    {
     "name": "stderr",
     "output_type": "stream",
     "text": [
      "100%|███████████████████████████████████████████████████████████████████████████████████████| 1714/1714 [00:00<00:00, 753409.88it/s]\n"
     ]
    },
    {
     "name": "stdout",
     "output_type": "stream",
     "text": [
      "Define document\n",
      "Define indexes\n",
      "Current Indexes: None\n",
      "small document\n"
     ]
    },
    {
     "name": "stderr",
     "output_type": "stream",
     "text": [
      "100%|████████████████████████████████████████████████████████████████████████████████████| 10226/10226 [00:00<00:00, 4679863.91it/s]\n"
     ]
    },
    {
     "name": "stdout",
     "output_type": "stream",
     "text": [
      "Define document\n",
      "Define indexes\n",
      "Current Indexes: None\n",
      "small document\n"
     ]
    },
    {
     "name": "stderr",
     "output_type": "stream",
     "text": [
      "100%|██████████████████████████████████████████████████████████████████████████████████████| 8426/8426 [00:00<00:00, 1718595.87it/s]\n"
     ]
    },
    {
     "name": "stdout",
     "output_type": "stream",
     "text": [
      "Define document\n",
      "Define indexes\n",
      "Current Indexes: None\n",
      "small document\n"
     ]
    },
    {
     "name": "stderr",
     "output_type": "stream",
     "text": [
      "100%|██████████████████████████████████████████████████████████████████████████████████████| 7441/7441 [00:00<00:00, 1108499.95it/s]\n"
     ]
    },
    {
     "name": "stdout",
     "output_type": "stream",
     "text": [
      "Define document\n",
      "Define indexes\n",
      "Current Indexes: None\n",
      "small document\n"
     ]
    },
    {
     "name": "stderr",
     "output_type": "stream",
     "text": [
      "100%|██████████████████████████████████████████████████████████████████████████████████████| 5128/5128 [00:00<00:00, 1296858.06it/s]\n"
     ]
    },
    {
     "name": "stdout",
     "output_type": "stream",
     "text": [
      "Define document\n",
      "Define indexes\n",
      "Current Indexes: None\n",
      "small document\n"
     ]
    },
    {
     "name": "stderr",
     "output_type": "stream",
     "text": [
      "100%|██████████████████████████████████████████████████████████████████████████████████████| 4079/4079 [00:00<00:00, 1416389.27it/s]\n"
     ]
    },
    {
     "name": "stdout",
     "output_type": "stream",
     "text": [
      "Define document\n",
      "Define indexes\n",
      "Current Indexes: [0, 138173]\n",
      "big document\n"
     ]
    },
    {
     "name": "stderr",
     "output_type": "stream",
     "text": [
      "100%|██████████████████████████████████████████████████████████████████████████████████████| 3075/3075 [00:00<00:00, 2462762.04it/s]\n"
     ]
    },
    {
     "name": "stdout",
     "output_type": "stream",
     "text": [
      "Define document\n",
      "Define indexes\n",
      "Current Indexes: None\n",
      "small document\n"
     ]
    },
    {
     "name": "stderr",
     "output_type": "stream",
     "text": [
      "100%|██████████████████████████████████████████████████████████████████████████████████████| 1817/1817 [00:00<00:00, 1632615.76it/s]\n"
     ]
    },
    {
     "name": "stdout",
     "output_type": "stream",
     "text": [
      "Define document\n",
      "Define indexes\n",
      "Current Indexes: [0, 128492, 256985]\n",
      "big document\n"
     ]
    },
    {
     "name": "stderr",
     "output_type": "stream",
     "text": [
      "100%|██████████████████████████████████████████████████████████████████████████████████████| 1646/1646 [00:00<00:00, 2409711.83it/s]\n",
      "100%|██████████████████████████████████████████████████████████████████████████████████████| 3152/3152 [00:00<00:00, 2213367.86it/s]\n"
     ]
    },
    {
     "name": "stdout",
     "output_type": "stream",
     "text": [
      "Define document\n",
      "Define indexes\n",
      "Current Indexes: None\n",
      "small document\n"
     ]
    },
    {
     "name": "stderr",
     "output_type": "stream",
     "text": [
      "100%|██████████████████████████████████████████████████████████████████████████████████████| 5292/5292 [00:00<00:00, 1843236.74it/s]\n"
     ]
    },
    {
     "name": "stdout",
     "output_type": "stream",
     "text": [
      "Define document\n",
      "Define indexes\n",
      "Current Indexes: None\n",
      "small document\n"
     ]
    },
    {
     "name": "stderr",
     "output_type": "stream",
     "text": [
      "100%|██████████████████████████████████████████████████████████████████████████████████████| 5018/5018 [00:00<00:00, 1769400.38it/s]\n"
     ]
    },
    {
     "name": "stdout",
     "output_type": "stream",
     "text": [
      "Define document\n",
      "Define indexes\n",
      "Current Indexes: None\n",
      "small document\n"
     ]
    },
    {
     "name": "stderr",
     "output_type": "stream",
     "text": [
      "100%|███████████████████████████████████████████████████████████████████████████████████████| 1360/1360 [00:00<00:00, 446971.75it/s]\n"
     ]
    },
    {
     "name": "stdout",
     "output_type": "stream",
     "text": [
      "Define document\n",
      "Define indexes\n",
      "Current Indexes: [0, 177211]\n",
      "big document\n"
     ]
    },
    {
     "name": "stderr",
     "output_type": "stream",
     "text": [
      "100%|██████████████████████████████████████████████████████████████████████████████████████| 1633/1633 [00:00<00:00, 1648050.63it/s]\n"
     ]
    },
    {
     "name": "stdout",
     "output_type": "stream",
     "text": [
      "Define document\n",
      "Define indexes\n",
      "Current Indexes: [0, 101828, 203656, 305484, 407312]\n",
      "big document\n"
     ]
    },
    {
     "name": "stderr",
     "output_type": "stream",
     "text": [
      "100%|██████████████████████████████████████████████████████████████████████████████████████| 1665/1665 [00:00<00:00, 2488779.81it/s]\n",
      "100%|██████████████████████████████████████████████████████████████████████████████████████| 1326/1326 [00:00<00:00, 2040222.71it/s]\n",
      "100%|██████████████████████████████████████████████████████████████████████████████████████| 3003/3003 [00:00<00:00, 4235203.40it/s]\n",
      "100%|██████████████████████████████████████████████████████████████████████████████████████| 2744/2744 [00:00<00:00, 3232912.97it/s]\n"
     ]
    },
    {
     "name": "stdout",
     "output_type": "stream",
     "text": [
      "Define document\n",
      "Define indexes\n",
      "Current Indexes: None\n",
      "small document\n"
     ]
    },
    {
     "name": "stderr",
     "output_type": "stream",
     "text": [
      "100%|█████████████████████████████████████████████████████████████████████████████████████████| 151/151 [00:00<00:00, 137652.66it/s]\n"
     ]
    },
    {
     "name": "stdout",
     "output_type": "stream",
     "text": [
      "Define document\n",
      "Define indexes\n",
      "Current Indexes: None\n",
      "small document\n"
     ]
    },
    {
     "name": "stderr",
     "output_type": "stream",
     "text": [
      "100%|██████████████████████████████████████████████████████████████████████████████████████| 3450/3450 [00:00<00:00, 3734283.56it/s]\n"
     ]
    }
   ],
   "source": [
    "metroman = []\n",
    "\n",
    "for key in list(documents.keys()):\n",
    "    # Define document\n",
    "    print(\"Define document\")\n",
    "    current_doc = documents[key]\n",
    "    doc_len = len(current_doc.split())\n",
    "\n",
    "    # Indexes\n",
    "    print(\"Define indexes\")\n",
    "    if doc_len < 100000:\n",
    "        indexes = None\n",
    "    else:\n",
    "        n_steps = math.ceil(doc_len / 100000)\n",
    "        indexes = list(np.linspace(0, doc_len, n_steps))\n",
    "        indexes = [round(item) for item in indexes]\n",
    "\n",
    "    # NER\n",
    "    print(\"Current Indexes:\", indexes)\n",
    "    nlp = spacy.load(\"en_core_web_sm\") \n",
    "    \n",
    "    valid_countries = {country.name for country in pycountry.countries}\n",
    "    country_count = defaultdict(int)\n",
    "\n",
    "    if indexes == None:\n",
    "        print(\"small document\")\n",
    "        ner_model = nlp(current_doc)\n",
    "        for ent in tqdm(ner_model.ents):\n",
    "            if ent.label_ == \"GPE\" and ent.text.strip() in valid_countries:\n",
    "                country = ent.text.strip()\n",
    "                country_count[country] += 1\n",
    "    else:\n",
    "        print(\"big document\")\n",
    "        for j in range(len(indexes)-1):\n",
    "            start = indexes[j]\n",
    "            end = indexes[j+1]\n",
    "            ner_doc = current_doc[start:end]\n",
    "            ner_model = nlp(ner_doc)\n",
    "            for ent in tqdm(ner_model.ents):\n",
    "                if ent.label_ == \"GPE\" and ent.text.strip() in valid_countries:\n",
    "                    country = ent.text.strip()\n",
    "                    country_count[country] += 1\n",
    "\n",
    "    metroman.append(country_count)\n",
    "    with open(f'json/{key}.txt', 'w') as f:\n",
    "        json.dump(country_count, f)"
   ]
  },
  {
   "cell_type": "code",
   "execution_count": null,
   "id": "7bbc0149-67fc-49ea-b98d-ab6832a1b73a",
   "metadata": {},
   "outputs": [],
   "source": [
    "metrocity = []\n",
    "for dick in metroman:\n",
    "    x = dict(sorted(dick.items(), key=lambda item: item[1], reverse=True)[:10])\n",
    "    metrocity.append(x)"
   ]
  },
  {
   "cell_type": "code",
   "execution_count": null,
   "id": "465f32fe-8a50-46b2-8096-f68eb7ce8eb8",
   "metadata": {},
   "outputs": [],
   "source": [
    "metrocity"
   ]
  },
  {
   "cell_type": "code",
   "execution_count": null,
   "id": "b274e955-4068-4468-8e41-f3d20cad2bb8",
   "metadata": {},
   "outputs": [],
   "source": []
  }
 ],
 "metadata": {
  "kernelspec": {
   "display_name": "Python 3 (ipykernel)",
   "language": "python",
   "name": "python3"
  },
  "language_info": {
   "codemirror_mode": {
    "name": "ipython",
    "version": 3
   },
   "file_extension": ".py",
   "mimetype": "text/x-python",
   "name": "python",
   "nbconvert_exporter": "python",
   "pygments_lexer": "ipython3",
   "version": "3.11.5"
  }
 },
 "nbformat": 4,
 "nbformat_minor": 5
}
